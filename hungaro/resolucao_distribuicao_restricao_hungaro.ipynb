{
 "cells": [
  {
   "cell_type": "code",
   "execution_count": 31,
   "metadata": {},
   "outputs": [],
   "source": [
    "# pip install -r dependencies.txt"
   ]
  },
  {
   "cell_type": "code",
   "execution_count": 32,
   "metadata": {},
   "outputs": [],
   "source": [
    "import pandas as pd\n",
    "import numpy as np\n",
    "from scipy.optimize import linear_sum_assignment\n",
    "import time\n",
    "import secrets\n",
    "# import matplotlib.pyplot as plt\n",
    "# import networkx as nx"
   ]
  },
  {
   "cell_type": "code",
   "execution_count": 33,
   "metadata": {},
   "outputs": [],
   "source": [
    "# Carregar dados CSV\n",
    "diplomatas = pd.read_csv('../resources/aed_alocacao_recursos - diplomatas.csv')\n",
    "cidades = pd.read_csv('../resources/aed_alocacao_recursos - cidades.csv')\n",
    "\n",
    "# print(diplomatas.info())\n",
    "# print(cidades.info())"
   ]
  },
  {
   "cell_type": "code",
   "execution_count": 34,
   "metadata": {},
   "outputs": [
    {
     "data": {
      "text/plain": [
       "{'cidade': 'C1', 'posto': 'P1', 'classificacao': 'A'}"
      ]
     },
     "execution_count": 34,
     "metadata": {},
     "output_type": "execute_result"
    }
   ],
   "source": [
    "def get_posto_trabalho(id, cidades):\n",
    "  return cidades.loc[cidades['posto'] == id].to_dict(orient='records')[0]\n",
    "\n",
    "get_posto_trabalho('P1', cidades)"
   ]
  },
  {
   "cell_type": "code",
   "execution_count": 35,
   "metadata": {},
   "outputs": [],
   "source": [
    "def calcular_custo_aresta(diplomata, posto, cidades, atenuador = False):\n",
    "    \"\"\"\n",
    "    Calcula o custo da aresta x diplomata-posto\n",
    "\n",
    "    :param diplomata: Aresta produtora que representa o diplomata (pandas Series)\n",
    "    :param posto: Aresta consumidora que representa a posto de trabalho (pandas Series)\n",
    "    :param cidades: Conjunto de cidades com seus respectivos postos (pandas DataFrame)\n",
    "    :param atenuador: Indica a necessidade de atribuir menor custo aos postos de menor classificação (boolean)\n",
    "    :return: custo (float)\n",
    "    \"\"\"\n",
    "    seed = secrets.randbits(128)\n",
    "    CUSTO_INFINITO = 999999999.99\n",
    "    \n",
    "    # print(f\"Calculando custo da aresta {diplomata.id} -> {posto.posto}\")\n",
    "    # Se tiver 12 anos fora, deve retornar\n",
    "    if diplomata.tempo_fora >= 144:\n",
    "        if posto.classificacao == '*':\n",
    "            return 0.0\n",
    "        else:\n",
    "            return CUSTO_INFINITO\n",
    "    # Se tiver 2 anos na lotação atual, deve trocar de lotacao\n",
    "    if diplomata.tempo_na_lotacao >= 24 and diplomata.lotacao == posto.posto:\n",
    "        return CUSTO_INFINITO\n",
    "\n",
    "    # verificar se a origem á compatível com o destino. Ex. a só pode ir para B, C ou D\n",
    "    if diplomata.lotacao != 'P0':\n",
    "        posto_atual = get_posto_trabalho(diplomata.lotacao, cidades)\n",
    "        # print('Posto atual {}'.format(posto_atual))\n",
    "        if diplomata.lotacao != posto.posto and posto.classificacao == 'A':\n",
    "            if posto_atual.get('classificacao')  == 'A':\n",
    "                return CUSTO_INFINITO\n",
    "    elif diplomata.pedagio < 24 and posto.classificacao == 'A':\n",
    "        # Se estiver a menos de 2 anos no Brasil, não pode ir para um posto 'A'\n",
    "        return CUSTO_INFINITO\n",
    "\n",
    "    if posto.classificacao == 'A':\n",
    "        return 1.0 \n",
    "\n",
    "    if posto.classificacao == 'B':\n",
    "        return 2.0\n",
    "\n",
    "    if posto.classificacao == 'C':\n",
    "        return 3.0 if not atenuador else 3.0 * np.random.default_rng(seed).random()\n",
    "\n",
    "    if posto.classificacao == 'D':\n",
    "        return 4.0 if not atenuador else 4.0 * np.random.default_rng(seed).random()\n",
    "    \n",
    "    return CUSTO_INFINITO"
   ]
  },
  {
   "cell_type": "code",
   "execution_count": 36,
   "metadata": {},
   "outputs": [],
   "source": [
    "def alocar_diplomatas(matriz_custos):\n",
    "  \"\"\"\n",
    "  Resolve o problema de alocação usando o algoritmo húngaro.\n",
    "\n",
    "  :param matriz_custos: Matriz de custos (2D list ou numpy array)\n",
    "  :return: Tupla (lista de alocações, custo total)\n",
    "  \"\"\"\n",
    "  # Usando a função `linear_sum_assignment` da biblioteca scipy\n",
    "  matriz_custos = np.array(matriz_custos)\n",
    "  linhas, colunas = linear_sum_assignment(matriz_custos)\n",
    "  custo_total = matriz_custos[linhas, colunas].sum()\n",
    "\n",
    "  return linhas, colunas, custo_total"
   ]
  },
  {
   "cell_type": "code",
   "execution_count": 37,
   "metadata": {},
   "outputs": [],
   "source": [
    "def calcular_custos_arestas(diplomatas, cidades, atenuador = False):\n",
    "    diplomatas_tratado = diplomatas.sort_values(\"tempo_servico\", ascending = False)\n",
    "    pesos_arestas = []\n",
    "    for d, row in diplomatas_tratado.iterrows():\n",
    "        pesos_diplomata = []\n",
    "        for i, posto in cidades.iterrows():\n",
    "            pesos_diplomata.append(calcular_custo_aresta(row, posto, cidades, atenuador))\n",
    "        pesos_arestas.append(pesos_diplomata)\n",
    "\n",
    "    return pesos_arestas"
   ]
  },
  {
   "cell_type": "code",
   "execution_count": 38,
   "metadata": {},
   "outputs": [],
   "source": [
    "# Exemplo de uso\n",
    "# pesos_arestas = calcular_custos_arestas(diplomatas,cidades)\n",
    "# linhas, colunas, custo = alocar_diplomatas(pesos_arestas)\n",
    "# diplomatas_tratado = diplomatas.sort_values(\"tempo_servico\", ascending = False)\n",
    "# print(\"Alocações (diplomata -> posto):\")\n",
    "# for i, j in zip(linhas, colunas):\n",
    "#   print(f\"Diplomata {diplomatas_tratado.iloc[i].id} -> Posto {cidades.iloc[j].posto}\")\n",
    "\n",
    "# print(\"Custo total:\", custo)"
   ]
  },
  {
   "cell_type": "code",
   "execution_count": 39,
   "metadata": {},
   "outputs": [
    {
     "data": {
      "text/plain": [
       "2"
      ]
     },
     "execution_count": 39,
     "metadata": {},
     "output_type": "execute_result"
    }
   ],
   "source": [
    "# np.random.randint(1,2)\n",
    "a = [1,2]\n",
    "len(a)"
   ]
  },
  {
   "cell_type": "code",
   "execution_count": 40,
   "metadata": {},
   "outputs": [],
   "source": [
    "def gerar_base_diplomatas(qtd_diplomatas, qtd_postos):\n",
    "  \"\"\"\n",
    "  Gera uma base de diplomatas e suas respectivas lotações com dados sintéticos\n",
    "\n",
    "  :param qtd_diplomatas: Quantidade de diplomatas da base de testes (int)\n",
    "  :param qtd_postos: Quantidade de postos únicos existentes. Deve ser maior ou igual à quantidade de diplomatas.\n",
    "  :return: DataFrame\n",
    "  \"\"\"\n",
    "  if qtd_diplomatas > qtd_postos:\n",
    "    raise ValueError('A quantidade de diplomatas deve ser maior ou igual à quantidade de postos únicos.')\n",
    "\n",
    "  # Geração da lotação\n",
    "  ids = []\n",
    "  pedagios = []\n",
    "  lotacoes = []\n",
    "  tempos_servico = []\n",
    "  tempos_lotacao = []\n",
    "  tempos_fora = []\n",
    "\n",
    "  for p in range(qtd_diplomatas):\n",
    "    while True:\n",
    "      lotacao = 'P' + str(np.random.randint(1,qtd_postos+1))\n",
    "      if lotacao == 'P0' or lotacao not in lotacoes:\n",
    "        break\n",
    "\n",
    "    tempo_servico = np.random.randint(300)  # tempo de serviço em meses\n",
    "    pedagio = 0                             # tempo no Brasil em meses\n",
    "    tempo_na_lotacao = 0                    # tempo na lotação em meses\n",
    "    tempo_fora = 0                          # tempo ininterrupro fora do Brasil em meses\n",
    "    if lotacao == 'P0': # Ele está no Brasil\n",
    "      pedagio = np.random.randint(30)\n",
    "      tempo_na_lotacao = 0\n",
    "      tempo_fora = 0\n",
    "    else:\n",
    "      pedagio = 0\n",
    "      tempo_na_lotacao = np.random.randint(25)\n",
    "      tempo_fora = tempo_na_lotacao + np.random.randint(97,122)\n",
    "\n",
    "    ids.append('D' + str(p+1))\n",
    "    pedagios.append(pedagio)\n",
    "    lotacoes.append(lotacao)\n",
    "    tempos_servico.append(tempo_servico)\n",
    "    tempos_lotacao.append(tempo_na_lotacao)\n",
    "    tempos_fora.append(tempo_fora)\n",
    "\n",
    "  d = {\n",
    "    'id': ids,\n",
    "    'pedagio': pedagios,\n",
    "    'lotacao': lotacoes,\n",
    "    'tempo_servico': tempos_servico,\n",
    "    'tempo_na_lotacao': tempos_lotacao,\n",
    "    'tempo_fora': tempos_fora\n",
    "  }\n",
    "  return pd.DataFrame(data=d, index=[*range(qtd_diplomatas)])"
   ]
  },
  {
   "cell_type": "code",
   "execution_count": 41,
   "metadata": {},
   "outputs": [],
   "source": [
    "# dpls = gerar_base_diplomatas(150,175)\n",
    "\n",
    "# dpls.loc[(dpls['lotacao'] != 'P0') & (dpls['pedagio'] != 0)]"
   ]
  },
  {
   "cell_type": "code",
   "execution_count": 42,
   "metadata": {},
   "outputs": [],
   "source": [
    "def gerar_base_postos(qtd_postos):\n",
    "  postos = ['P0']\n",
    "  classificacoes = ['*']\n",
    "  tipos_classificacoes = ['A','B','C','D']\n",
    "\n",
    "  for p in range(qtd_postos):\n",
    "    posto = 'P' + str(p+1)\n",
    "    postos.append(posto)\n",
    "    classificacoes.append(tipos_classificacoes[np.random.randint(4)])\n",
    "\n",
    "  d = {\n",
    "    'posto': postos,\n",
    "    'classificacao': classificacoes\n",
    "  }\n",
    "\n",
    "  return pd.DataFrame(data=d, index=[*range(qtd_postos+1)])"
   ]
  },
  {
   "cell_type": "code",
   "execution_count": 43,
   "metadata": {},
   "outputs": [],
   "source": [
    "def rodar_teste(qtd_diplomatas, qtd_postos, atenuador = False):\n",
    "  # Gerar base de testes\n",
    "  t_postos = gerar_base_postos(int(qtd_postos))\n",
    "  t_diplomatas = gerar_base_diplomatas(qtd_diplomatas, qtd_postos)\n",
    "\n",
    "  # Executar alocações\n",
    "  inicio = time.time()\n",
    "  t_pesos_arestas = calcular_custos_arestas(t_diplomatas, t_postos, atenuador)\n",
    "  linhas, colunas, custo = alocar_diplomatas(t_pesos_arestas)\n",
    "  fim = time.time()\n",
    "  #preparar dados de retorno\n",
    "  # pedagio,lotacao,tempo_servico,tempo_na_lotacao,tempo_fora\n",
    "  t_diplomatas_tratado = t_diplomatas.sort_values(\"tempo_servico\", ascending = False)\n",
    "  t_diplomatas_tratado = t_diplomatas_tratado.merge(t_postos, how='inner', left_on='lotacao',right_on='posto')\n",
    "  t_diplomatas_alocados = []\n",
    "  t_postos_alocados = []\n",
    "  t_classificacoes_atuais = []\n",
    "  t_classificacoes_alocadas = []\n",
    "  t_tempos_servicos = []\n",
    "  t_pedagios = []\n",
    "  t_lotacoes_anteriores = []\n",
    "  t_tempos_nas_lotacoes = []\n",
    "  t_tempos_fora = []\n",
    "\n",
    "  for i, j in zip(linhas, colunas):\n",
    "    diplomata = t_diplomatas_tratado.iloc[i].id\n",
    "    tempo_servico = t_diplomatas_tratado.iloc[i].tempo_servico\n",
    "    tempo_lotacao = t_diplomatas_tratado.iloc[i].tempo_na_lotacao\n",
    "    tempo_fora = t_diplomatas_tratado.iloc[i].tempo_fora\n",
    "    pedagio = t_diplomatas_tratado.iloc[i].pedagio\n",
    "    lotacao = t_diplomatas_tratado.iloc[i].lotacao\n",
    "    alocacao = t_postos.iloc[j].posto\n",
    "    classificacao_atual = t_diplomatas_tratado.iloc[i].classificacao\n",
    "    classificacao_alocada = t_postos.iloc[j].classificacao\n",
    "    '''\n",
    "    print(f\"\"\"\n",
    "      'diplomata': {diplomata},\n",
    "      'tempo_servico': {tempo_servico},\n",
    "      'tempo_na_lotacao': {tempo_lotacao},\n",
    "      'tempo_fora': {tempo_fora},\n",
    "      'tempo_sede': {pedagio},\n",
    "      'lotacao_anterior': {lotacao},\n",
    "      'classificacao_anterior': {classificacao_atual},\n",
    "      'lotacao_alocada': {alocacao},\n",
    "      'classificacao_alocada': {classificacao_alocada}\n",
    "          \"\"\")\n",
    "    '''\n",
    "    t_diplomatas_alocados.append(diplomata)\n",
    "    t_tempos_servicos.append(tempo_servico)\n",
    "    t_tempos_nas_lotacoes.append(tempo_lotacao)\n",
    "    t_tempos_fora.append(tempo_fora)\n",
    "    t_pedagios.append(pedagio)\n",
    "    t_lotacoes_anteriores.append(lotacao)\n",
    "    t_postos_alocados.append(alocacao)\n",
    "    t_classificacoes_atuais.append(classificacao_atual)\n",
    "    t_classificacoes_alocadas.append(classificacao_alocada)\n",
    "\n",
    "  d= {\n",
    "    'diplomata': t_diplomatas_alocados,\n",
    "    'tempo_servico': t_tempos_servicos,\n",
    "    'tempo_na_lotacao': t_tempos_nas_lotacoes,\n",
    "    'tempo_fora': t_tempos_fora,\n",
    "    'tempo_sede': t_pedagios,\n",
    "    'lotacao_anterior': t_lotacoes_anteriores,\n",
    "    'classificacao_anterior': t_classificacoes_atuais,\n",
    "    'lotacao_alocada': t_postos_alocados,\n",
    "    'classificacao_alocada': t_classificacoes_alocadas\n",
    "  }\n",
    "  df = pd.DataFrame(data=d, index=[*range(qtd_diplomatas)])\n",
    "  tempo = fim - inicio\n",
    "  # print(\"Custo total:\", custo)\n",
    "  # print(f\"Tempo de execução igual a {fim - inicio}\")\n",
    "  return df, custo, tempo"
   ]
  },
  {
   "cell_type": "code",
   "execution_count": 44,
   "metadata": {},
   "outputs": [
    {
     "data": {
      "text/plain": [
       "[0, 1, 2, 3, 4]"
      ]
     },
     "execution_count": 44,
     "metadata": {},
     "output_type": "execute_result"
    }
   ],
   "source": [
    "[*range(5)]"
   ]
  },
  {
   "cell_type": "code",
   "execution_count": null,
   "metadata": {},
   "outputs": [
    {
     "name": "stdout",
     "output_type": "stream",
     "text": [
      "Custo total: 698.0\n",
      "Tempo de execução: 36.61278820037842\n"
     ]
    }
   ],
   "source": [
    "# df, custo, tempo =  rodar_teste(150)\n",
    "qtd_diplomatas = 350\n",
    "qtd_un_postos = 500\n",
    "atenuador = False\n",
    "df, custo, tempo =  rodar_teste(qtd_diplomatas, qtd_un_postos, atenuador)\n",
    "df.to_csv('../output/resultados_n_' + str(qtd_diplomatas) + '.csv', index=False)\n",
    "print(f\"Custo total: {custo}\")\n",
    "print(f\"Tempo de execução: {tempo}\")"
   ]
  },
  {
   "cell_type": "code",
   "execution_count": 48,
   "metadata": {},
   "outputs": [
    {
     "name": "stdout",
     "output_type": "stream",
     "text": [
      "Custo total: 2000000093.1016202\n",
      "Tempo de execução: 39.69610357284546\n"
     ]
    }
   ],
   "source": [
    "# df, custo, tempo =  rodar_teste(150)\n",
    "qtd_diplomatas = 350\n",
    "qtd_un_postos = 500\n",
    "atenuador = True\n",
    "df, custo, tempo =  rodar_teste(qtd_diplomatas, qtd_un_postos, atenuador)\n",
    "df.to_csv('../output/resultados_atenuados_n_' + str(qtd_diplomatas) + '.csv', index=False)\n",
    "print(f\"Custo total: {custo}\")\n",
    "print(f\"Tempo de execução: {tempo}\")"
   ]
  },
  {
   "cell_type": "code",
   "execution_count": 46,
   "metadata": {},
   "outputs": [],
   "source": [
    "# média de tempo de serviço\n",
    "# float(dplm['tempo_servico'].mean())/12\n",
    "\n",
    "# Mediana do tempo de serviço\n",
    "# float(dplm['tempo_servico'].median())/12\n",
    "\n",
    "# dplm[['tempo_servico', 'tempo_na_lotacao', 'tempo_fora', 'pedagio']].describe()\n",
    "# dplm[[\"posto\",\"tempo_servico\"]].groupby()\n",
    "\n",
    "#####################\n",
    "#### Calular a média de tempo de serviço por classe de posto antes e depois\n",
    "####\n",
    "####################\n",
    "# print(df[['classificacao_anterior', 'tempo_servico','tempo_na_lotacao','tempo_fora','tempo_sede']].groupby('classificacao_anterior').mean())\n",
    "# print(df[['classificacao_alocada', 'tempo_servico','tempo_na_lotacao','tempo_fora','tempo_sede']].groupby('classificacao_alocada').mean())\n",
    "\n",
    "# df.loc[df['tempo_fora']>=144]"
   ]
  },
  {
   "cell_type": "code",
   "execution_count": 47,
   "metadata": {},
   "outputs": [],
   "source": [
    "# Rodar testes em massa\n",
    "\n",
    "# resultados = pd.DataFrame()\n",
    "# for q in range(50, 550, 100):\n",
    "#   df, custo, tempo =  rodar_teste(q)\n",
    "#   df.to_csv('../output/resultados_n_'+str(q)+'.csv', index=False)"
   ]
  }
 ],
 "metadata": {
  "kernelspec": {
   "display_name": ".venv",
   "language": "python",
   "name": "python3"
  },
  "language_info": {
   "codemirror_mode": {
    "name": "ipython",
    "version": 3
   },
   "file_extension": ".py",
   "mimetype": "text/x-python",
   "name": "python",
   "nbconvert_exporter": "python",
   "pygments_lexer": "ipython3",
   "version": "3.13.1"
  }
 },
 "nbformat": 4,
 "nbformat_minor": 2
}
