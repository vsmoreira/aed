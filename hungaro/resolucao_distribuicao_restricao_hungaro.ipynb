{
 "cells": [
  {
   "cell_type": "code",
   "execution_count": 5,
   "metadata": {},
   "outputs": [],
   "source": [
    "# pip install -r dependencies.txt"
   ]
  },
  {
   "cell_type": "code",
   "execution_count": 6,
   "metadata": {},
   "outputs": [],
   "source": [
    "import pandas as pd\n",
    "import numpy as np\n",
    "from scipy.optimize import linear_sum_assignment\n",
    "import time"
   ]
  },
  {
   "cell_type": "code",
   "execution_count": 7,
   "metadata": {},
   "outputs": [],
   "source": [
    "# Carregar dados CSV\n",
    "diplomatas = pd.read_csv('../resources/aed_alocacao_recursos - diplomatas.csv')\n",
    "cidades = pd.read_csv('../resources/aed_alocacao_recursos - cidades.csv')\n",
    "\n",
    "# print(diplomatas.info())\n",
    "# print(cidades.info())"
   ]
  },
  {
   "cell_type": "code",
   "execution_count": 8,
   "metadata": {},
   "outputs": [
    {
     "data": {
      "text/plain": [
       "{'cidade': 'C1', 'posto': 'P1', 'classificacao': 'A'}"
      ]
     },
     "execution_count": 8,
     "metadata": {},
     "output_type": "execute_result"
    }
   ],
   "source": [
    "def get_posto_trabalho(id, cidades):\n",
    "  return cidades.loc[cidades['posto'] == id].to_dict(orient='records')[0]\n",
    "\n",
    "get_posto_trabalho('P1', cidades)"
   ]
  },
  {
   "cell_type": "code",
   "execution_count": 9,
   "metadata": {},
   "outputs": [],
   "source": [
    "def calcular_custo_aresta(diplomata, posto, cidades):\n",
    "    # print(f\"Calculando custo da aresta {diplomata.id} -> {posto.posto}\")\n",
    "    # Se tiver 12 anos fora, deve retornar\n",
    "    if diplomata.tempo_fora >= 144:\n",
    "        if posto.classificacao == '*':\n",
    "            return 0.0\n",
    "        else:\n",
    "            return 999999999.99\n",
    "    # Se tiver 2 anos na lotação atual, deve trocar de lotacao\n",
    "    if diplomata.tempo_na_lotacao >= 24 and diplomata.lotacao == posto.posto:\n",
    "        return 999999999.99\n",
    "\n",
    "    # verificar se a origem á compatível com o destino. Ex. a só pode ir para B, C ou D\n",
    "    if diplomata.lotacao != 'P0':\n",
    "        posto_atual = get_posto_trabalho(diplomata.lotacao, cidades)\n",
    "        # print('Posto atual {}'.format(posto_atual))\n",
    "        if diplomata.lotacao != posto.posto and posto.classificacao == 'A':\n",
    "            if posto_atual.get('classificacao')  == 'A':\n",
    "                return 999999999.99\n",
    "    elif diplomata.pedagio < 24 and posto.classificacao == 'A':\n",
    "        # Se estiver a menos de 2 anos no Brasil, não pode ir para um posto 'A'\n",
    "        return 999999999.99\n",
    "\n",
    "    if posto.classificacao == 'A':\n",
    "        return 0.0\n",
    "\n",
    "    if posto.classificacao == 'B':\n",
    "        return 10.0\n",
    "\n",
    "    if posto.classificacao == 'C':\n",
    "        return 100.0\n",
    "\n",
    "    if posto.classificacao == 'D':\n",
    "        return 1000.0\n",
    "    \n",
    "    return 999999999.99"
   ]
  },
  {
   "cell_type": "code",
   "execution_count": 10,
   "metadata": {},
   "outputs": [],
   "source": [
    "def alocar_diplomatas(matriz_custos):\n",
    "  \"\"\"\n",
    "  Resolve o problema de alocação usando o algoritmo húngaro.\n",
    "\n",
    "  :param matriz_custos: Matriz de custos (2D list ou numpy array)\n",
    "  :return: Tupla (lista de alocações, custo total)\n",
    "  \"\"\"\n",
    "  # Usando a função `linear_sum_assignment` da biblioteca scipy\n",
    "  matriz_custos = np.array(matriz_custos)\n",
    "  linhas, colunas = linear_sum_assignment(matriz_custos)\n",
    "  custo_total = matriz_custos[linhas, colunas].sum()\n",
    "\n",
    "  return linhas, colunas, custo_total"
   ]
  },
  {
   "cell_type": "code",
   "execution_count": 11,
   "metadata": {},
   "outputs": [],
   "source": [
    "def calcular_custos_arestas(diplomatas, cidades):\n",
    "    diplomatas_tratado = diplomatas.sort_values(\"tempo_servico\", ascending = False)\n",
    "    pesos_arestas = []\n",
    "    for d, row in diplomatas_tratado.iterrows():\n",
    "        pesos_diplomata = []\n",
    "        for i, posto in cidades.iterrows():\n",
    "            pesos_diplomata.append(calcular_custo_aresta(row,posto,cidades))\n",
    "        pesos_arestas.append(pesos_diplomata)\n",
    "\n",
    "    return pesos_arestas"
   ]
  },
  {
   "cell_type": "code",
   "execution_count": 12,
   "metadata": {},
   "outputs": [
    {
     "name": "stdout",
     "output_type": "stream",
     "text": [
      "Alocações (diplomata -> posto):\n",
      "Diplomata D30 -> Posto P0\n",
      "Diplomata D29 -> Posto P1\n",
      "Diplomata D28 -> Posto P2\n",
      "Diplomata D27 -> Posto P3\n",
      "Diplomata D26 -> Posto P4\n",
      "Diplomata D25 -> Posto P5\n",
      "Diplomata D24 -> Posto P6\n",
      "Diplomata D23 -> Posto P7\n",
      "Diplomata D22 -> Posto P8\n",
      "Diplomata D21 -> Posto P9\n",
      "Diplomata D20 -> Posto P10\n",
      "Diplomata D19 -> Posto P11\n",
      "Diplomata D18 -> Posto P12\n",
      "Diplomata D17 -> Posto P13\n",
      "Diplomata D16 -> Posto P14\n",
      "Diplomata D15 -> Posto P16\n",
      "Diplomata D14 -> Posto P15\n",
      "Diplomata D13 -> Posto P17\n",
      "Diplomata D12 -> Posto P18\n",
      "Diplomata D11 -> Posto P19\n",
      "Diplomata D10 -> Posto P20\n",
      "Diplomata D9 -> Posto P21\n",
      "Diplomata D8 -> Posto P22\n",
      "Diplomata D7 -> Posto P23\n",
      "Diplomata D6 -> Posto P24\n",
      "Diplomata D5 -> Posto P25\n",
      "Diplomata D4 -> Posto P26\n",
      "Diplomata D3 -> Posto P27\n",
      "Diplomata D2 -> Posto P28\n",
      "Diplomata D1 -> Posto P29\n",
      "Custo total: 1000.0\n"
     ]
    }
   ],
   "source": [
    "# Exemplo de uso\n",
    "pesos_arestas = calcular_custos_arestas(diplomatas,cidades)\n",
    "linhas, colunas, custo = alocar_diplomatas(pesos_arestas)\n",
    "diplomatas_tratado = diplomatas.sort_values(\"tempo_servico\", ascending = False)\n",
    "print(\"Alocações (diplomata -> posto):\")\n",
    "for i, j in zip(linhas, colunas):\n",
    "  print(f\"Diplomata {diplomatas_tratado.iloc[i].id} -> Posto {cidades.iloc[j].posto}\")\n",
    "\n",
    "print(\"Custo total:\", custo)"
   ]
  },
  {
   "cell_type": "code",
   "execution_count": 27,
   "metadata": {},
   "outputs": [],
   "source": [
    "def gerar_base_diplomatas(qtd_diplomatas, qtd_postos):\n",
    "  # Geração da lotação\n",
    "  ids = []\n",
    "  pedagios = []\n",
    "  lotacoes = []\n",
    "  tempos_servico = []\n",
    "  tempos_lotacao = []\n",
    "  tempos_fora = []\n",
    "\n",
    "  for p in range(qtd_diplomatas):\n",
    "    while True:\n",
    "      lotacao = 'P' + str(np.random.randint(qtd_postos))\n",
    "      if lotacao == 'P0' or lotacao not in lotacoes:\n",
    "        break\n",
    "\n",
    "    tempo_servico = np.random.randint(300)  # tempo de serviço em meses\n",
    "    pedagio = 0                             # tempo no Brasil em anos\n",
    "    tempo_na_lotacao = 0                    # tempo na lotação em meses\n",
    "    tempo_fora = 0                          # tempo ininterrupro fora do Brasil em meses\n",
    "    if lotacao == 'P0': # Ele está no Brasil\n",
    "      pedagio = np.random.randint(30)\n",
    "      tempo_na_lotacao = 0\n",
    "      tempo_fora = 0\n",
    "    else:\n",
    "      pedagio = 0\n",
    "      tempo_na_lotacao = np.random.randint(25)\n",
    "      tempo_fora = tempo_na_lotacao + np.random.randint(97,122)\n",
    "\n",
    "    ids.append('D' + str(p+1))\n",
    "    pedagios.append(pedagio)\n",
    "    lotacoes.append(lotacao)\n",
    "    tempos_servico.append(tempo_servico)\n",
    "    tempos_lotacao.append(tempo_na_lotacao)\n",
    "    tempos_fora.append(tempo_fora)\n",
    "\n",
    "  d = {\n",
    "    'id': ids,\n",
    "    'pedagio': pedagios,\n",
    "    'lotacao': lotacoes,\n",
    "    'tempo_servico': tempos_servico,\n",
    "    'tempo_na_lotacao': tempos_lotacao,\n",
    "    'tempo_fora': tempos_fora\n",
    "  }\n",
    "  return pd.DataFrame(data=d, index=[*range(qtd_diplomatas)])"
   ]
  },
  {
   "cell_type": "code",
   "execution_count": 14,
   "metadata": {},
   "outputs": [],
   "source": [
    "# dpls = gerar_base_diplomatas(150,175)\n",
    "\n",
    "# dpls.loc[(dpls['lotacao'] != 'P0') & (dpls['pedagio'] != 0)]"
   ]
  },
  {
   "cell_type": "code",
   "execution_count": 15,
   "metadata": {},
   "outputs": [],
   "source": [
    "def gerar_base_postos(qtd_postos):\n",
    "  postos = ['P0']\n",
    "  classificacoes = ['*']\n",
    "  tipos_classificacoes = ['A','B','C','D']\n",
    "\n",
    "  for p in range(qtd_postos):\n",
    "    posto = 'P' + str(p+1)\n",
    "    postos.append(posto)\n",
    "    classificacoes.append(tipos_classificacoes[np.random.randint(4)])\n",
    "\n",
    "  d = {\n",
    "    'posto': postos,\n",
    "    'classificacao': classificacoes\n",
    "  }\n",
    "\n",
    "  return pd.DataFrame(data=d, index=[*range(qtd_postos+1)])"
   ]
  },
  {
   "cell_type": "code",
   "execution_count": 28,
   "metadata": {},
   "outputs": [],
   "source": [
    "def rodar_teste(qtd_diplomatas, multiplicador_postos = 1.5):\n",
    "  # Gerar base de testes\n",
    "  qtd_postos = multiplicador_postos * qtd_diplomatas\n",
    "  t_postos = gerar_base_postos(int(qtd_postos))\n",
    "  t_diplomatas = gerar_base_diplomatas(qtd_diplomatas, qtd_postos)\n",
    "\n",
    "  # Executar alocações\n",
    "  inicio = time.time()\n",
    "  t_pesos_arestas = calcular_custos_arestas(t_diplomatas,t_postos)\n",
    "  linhas, colunas, custo = alocar_diplomatas(t_pesos_arestas)\n",
    "  fim = time.time()\n",
    "  #preparar dados de retorno\n",
    "  # pedagio,lotacao,tempo_servico,tempo_na_lotacao,tempo_fora\n",
    "  t_diplomatas_tratado = t_diplomatas.sort_values(\"tempo_servico\", ascending = False)\n",
    "  t_diplomatas_tratado = t_diplomatas_tratado.merge(t_postos, how='inner', left_on='lotacao',right_on='posto')\n",
    "  t_diplomatas_alocados = []\n",
    "  t_postos_alocados = []\n",
    "  t_classificacoes_atuais = []\n",
    "  t_classificacoes_alocadas = []\n",
    "  t_tempos_servicos = []\n",
    "  t_pedagios = []\n",
    "  t_lotacoes_anteriores = []\n",
    "  t_tempos_nas_lotacoes = []\n",
    "  t_tempos_fora = []\n",
    "\n",
    "  for i, j in zip(linhas, colunas):\n",
    "    diplomata = t_diplomatas_tratado.iloc[i].id\n",
    "    tempo_servico = t_diplomatas_tratado.iloc[i].tempo_servico\n",
    "    tempo_lotacao = t_diplomatas_tratado.iloc[i].tempo_na_lotacao\n",
    "    tempo_fora = t_diplomatas_tratado.iloc[i].tempo_fora\n",
    "    pedagio = t_diplomatas_tratado.iloc[i].pedagio\n",
    "    lotacao = t_diplomatas_tratado.iloc[i].lotacao\n",
    "    alocacao = t_postos.iloc[j].posto\n",
    "    classificacao_atual = t_diplomatas_tratado.iloc[i].classificacao\n",
    "    classificacao_alocada = t_postos.iloc[j].classificacao\n",
    "    '''\n",
    "    print(f\"\"\"\n",
    "      'diplomata': {diplomata},\n",
    "      'tempo_servico': {tempo_servico},\n",
    "      'tempo_na_lotacao': {tempo_lotacao},\n",
    "      'tempo_fora': {tempo_fora},\n",
    "      'tempo_sede': {pedagio},\n",
    "      'lotacao_anterior': {lotacao},\n",
    "      'classificacao_anterior': {classificacao_atual},\n",
    "      'lotacao_alocada': {alocacao},\n",
    "      'classificacao_alocada': {classificacao_alocada}\n",
    "          \"\"\")\n",
    "    '''\n",
    "    t_diplomatas_alocados.append(diplomata)\n",
    "    t_tempos_servicos.append(tempo_servico)\n",
    "    t_tempos_nas_lotacoes.append(tempo_lotacao)\n",
    "    t_tempos_fora.append(tempo_fora)\n",
    "    t_pedagios.append(pedagio)\n",
    "    t_lotacoes_anteriores.append(lotacao)\n",
    "    t_postos_alocados.append(alocacao)\n",
    "    t_classificacoes_atuais.append(classificacao_atual)\n",
    "    t_classificacoes_alocadas.append(classificacao_alocada)\n",
    "\n",
    "  d= {\n",
    "    'diplomata': t_diplomatas_alocados,\n",
    "    'tempo_servico': t_tempos_servicos,\n",
    "    'tempo_na_lotacao': t_tempos_nas_lotacoes,\n",
    "    'tempo_fora': t_tempos_fora,\n",
    "    'tempo_sede': t_pedagios,\n",
    "    'lotacao_anterior': t_lotacoes_anteriores,\n",
    "    'classificacao_anterior': t_classificacoes_atuais,\n",
    "    'lotacao_alocada': t_postos_alocados,\n",
    "    'classificacao_alocada': t_classificacoes_alocadas\n",
    "  }\n",
    "  df = pd.DataFrame(data=d, index=[*range(qtd_diplomatas)])\n",
    "  tempo = fim - inicio\n",
    "  # print(\"Custo total:\", custo)\n",
    "  # print(f\"Tempo de execução igual a {fim - inicio}\")\n",
    "  return df, custo, tempo"
   ]
  },
  {
   "cell_type": "code",
   "execution_count": 30,
   "metadata": {},
   "outputs": [],
   "source": [
    "df, custo, tempo =  rodar_teste(150)\n",
    "\n",
    "# dplm = gerar_base_diplomatas(100,150)\n",
    "# pst = gerar_base_postos(150)\n",
    "\n",
    "# all = dplm.merge(pst, how='inner', left_on='lotacao',right_on='posto')\n",
    "\n"
   ]
  },
  {
   "cell_type": "code",
   "execution_count": null,
   "metadata": {},
   "outputs": [],
   "source": [
    "# média de tempo de serviço\n",
    "# float(dplm['tempo_servico'].mean())/12\n",
    "\n",
    "# Mediana do tempo de serviço\n",
    "# float(dplm['tempo_servico'].median())/12\n",
    "\n",
    "# dplm[['tempo_servico', 'tempo_na_lotacao', 'tempo_fora', 'pedagio']].describe()\n",
    "# dplm[[\"posto\",\"tempo_servico\"]].groupby()\n",
    "\n",
    "#####################\n",
    "#### Calular a média de tempo de serviço por classe de posto antes e depois\n",
    "####\n",
    "####################\n",
    "print(df[['classificacao_anterior', 'tempo_servico','tempo_na_lotacao','tempo_fora','tempo_sede']].groupby('classificacao_anterior').mean())\n",
    "print(df[['classificacao_alocada', 'tempo_servico','tempo_na_lotacao','tempo_fora','tempo_sede']].groupby('classificacao_alocada').mean())\n",
    "\n",
    "# df.loc[df['tempo_fora']>=144]"
   ]
  },
  {
   "cell_type": "code",
   "execution_count": null,
   "metadata": {},
   "outputs": [
    {
     "ename": "KeyboardInterrupt",
     "evalue": "",
     "output_type": "error",
     "traceback": [
      "\u001b[1;31m---------------------------------------------------------------------------\u001b[0m",
      "\u001b[1;31mKeyboardInterrupt\u001b[0m                         Traceback (most recent call last)",
      "Cell \u001b[1;32mIn[36], line 5\u001b[0m\n\u001b[0;32m      3\u001b[0m resultados \u001b[38;5;241m=\u001b[39m pd\u001b[38;5;241m.\u001b[39mDataFrame()\n\u001b[0;32m      4\u001b[0m \u001b[38;5;28;01mfor\u001b[39;00m q \u001b[38;5;129;01min\u001b[39;00m \u001b[38;5;28mrange\u001b[39m(\u001b[38;5;241m50\u001b[39m, \u001b[38;5;241m500\u001b[39m, \u001b[38;5;241m10\u001b[39m):\n\u001b[1;32m----> 5\u001b[0m   df, custo, tempo \u001b[38;5;241m=\u001b[39m  \u001b[43mrodar_teste\u001b[49m\u001b[43m(\u001b[49m\u001b[43mq\u001b[49m\u001b[43m)\u001b[49m\n\u001b[0;32m      6\u001b[0m   df\u001b[38;5;241m.\u001b[39mto_csv(\u001b[38;5;124m'\u001b[39m\u001b[38;5;124m../output/resultados_n_\u001b[39m\u001b[38;5;124m'\u001b[39m\u001b[38;5;241m+\u001b[39m\u001b[38;5;28mstr\u001b[39m(q)\u001b[38;5;241m+\u001b[39m\u001b[38;5;124m'\u001b[39m\u001b[38;5;124m.csv\u001b[39m\u001b[38;5;124m'\u001b[39m, index\u001b[38;5;241m=\u001b[39m\u001b[38;5;28;01mFalse\u001b[39;00m)\n",
      "Cell \u001b[1;32mIn[28], line 9\u001b[0m, in \u001b[0;36mrodar_teste\u001b[1;34m(qtd_diplomatas, multiplicador_postos)\u001b[0m\n\u001b[0;32m      7\u001b[0m \u001b[38;5;66;03m# Executar alocações\u001b[39;00m\n\u001b[0;32m      8\u001b[0m inicio \u001b[38;5;241m=\u001b[39m time\u001b[38;5;241m.\u001b[39mtime()\n\u001b[1;32m----> 9\u001b[0m t_pesos_arestas \u001b[38;5;241m=\u001b[39m \u001b[43mcalcular_custos_arestas\u001b[49m\u001b[43m(\u001b[49m\u001b[43mt_diplomatas\u001b[49m\u001b[43m,\u001b[49m\u001b[43mt_postos\u001b[49m\u001b[43m)\u001b[49m\n\u001b[0;32m     10\u001b[0m linhas, colunas, custo \u001b[38;5;241m=\u001b[39m alocar_diplomatas(t_pesos_arestas)\n\u001b[0;32m     11\u001b[0m fim \u001b[38;5;241m=\u001b[39m time\u001b[38;5;241m.\u001b[39mtime()\n",
      "Cell \u001b[1;32mIn[11], line 7\u001b[0m, in \u001b[0;36mcalcular_custos_arestas\u001b[1;34m(diplomatas, cidades)\u001b[0m\n\u001b[0;32m      5\u001b[0m     pesos_diplomata \u001b[38;5;241m=\u001b[39m []\n\u001b[0;32m      6\u001b[0m     \u001b[38;5;28;01mfor\u001b[39;00m i, posto \u001b[38;5;129;01min\u001b[39;00m cidades\u001b[38;5;241m.\u001b[39miterrows():\n\u001b[1;32m----> 7\u001b[0m         pesos_diplomata\u001b[38;5;241m.\u001b[39mappend(\u001b[43mcalcular_custo_aresta\u001b[49m\u001b[43m(\u001b[49m\u001b[43mrow\u001b[49m\u001b[43m,\u001b[49m\u001b[43mposto\u001b[49m\u001b[43m,\u001b[49m\u001b[43mcidades\u001b[49m\u001b[43m)\u001b[49m)\n\u001b[0;32m      8\u001b[0m     pesos_arestas\u001b[38;5;241m.\u001b[39mappend(pesos_diplomata)\n\u001b[0;32m     10\u001b[0m \u001b[38;5;28;01mreturn\u001b[39;00m pesos_arestas\n",
      "Cell \u001b[1;32mIn[9], line 24\u001b[0m, in \u001b[0;36mcalcular_custo_aresta\u001b[1;34m(diplomata, posto, cidades)\u001b[0m\n\u001b[0;32m     20\u001b[0m \u001b[38;5;28;01melif\u001b[39;00m diplomata\u001b[38;5;241m.\u001b[39mpedagio \u001b[38;5;241m<\u001b[39m \u001b[38;5;241m24\u001b[39m \u001b[38;5;129;01mand\u001b[39;00m posto\u001b[38;5;241m.\u001b[39mclassificacao \u001b[38;5;241m==\u001b[39m \u001b[38;5;124m'\u001b[39m\u001b[38;5;124mA\u001b[39m\u001b[38;5;124m'\u001b[39m:\n\u001b[0;32m     21\u001b[0m     \u001b[38;5;66;03m# Se estiver a menos de 2 anos no Brasil, não pode ir para um posto 'A'\u001b[39;00m\n\u001b[0;32m     22\u001b[0m     \u001b[38;5;28;01mreturn\u001b[39;00m \u001b[38;5;241m999999999.99\u001b[39m\n\u001b[1;32m---> 24\u001b[0m \u001b[38;5;28;01mif\u001b[39;00m \u001b[43mposto\u001b[49m\u001b[38;5;241;43m.\u001b[39;49m\u001b[43mclassificacao\u001b[49m \u001b[38;5;241m==\u001b[39m \u001b[38;5;124m'\u001b[39m\u001b[38;5;124mA\u001b[39m\u001b[38;5;124m'\u001b[39m:\n\u001b[0;32m     25\u001b[0m     \u001b[38;5;28;01mreturn\u001b[39;00m \u001b[38;5;241m0.0\u001b[39m\n\u001b[0;32m     27\u001b[0m \u001b[38;5;28;01mif\u001b[39;00m posto\u001b[38;5;241m.\u001b[39mclassificacao \u001b[38;5;241m==\u001b[39m \u001b[38;5;124m'\u001b[39m\u001b[38;5;124mB\u001b[39m\u001b[38;5;124m'\u001b[39m:\n",
      "File \u001b[1;32md:\\Users\\vsmoreira\\workspace\\aed\\projeto\\.venv\\Lib\\site-packages\\pandas\\core\\generic.py:6296\u001b[0m, in \u001b[0;36mNDFrame.__getattr__\u001b[1;34m(self, name)\u001b[0m\n\u001b[0;32m   6286\u001b[0m \u001b[38;5;250m\u001b[39m\u001b[38;5;124;03m\"\"\"\u001b[39;00m\n\u001b[0;32m   6287\u001b[0m \u001b[38;5;124;03mAfter regular attribute access, try looking up the name\u001b[39;00m\n\u001b[0;32m   6288\u001b[0m \u001b[38;5;124;03mThis allows simpler access to columns for interactive use.\u001b[39;00m\n\u001b[0;32m   6289\u001b[0m \u001b[38;5;124;03m\"\"\"\u001b[39;00m\n\u001b[0;32m   6290\u001b[0m \u001b[38;5;66;03m# Note: obj.x will always call obj.__getattribute__('x') prior to\u001b[39;00m\n\u001b[0;32m   6291\u001b[0m \u001b[38;5;66;03m# calling obj.__getattr__('x').\u001b[39;00m\n\u001b[0;32m   6292\u001b[0m \u001b[38;5;28;01mif\u001b[39;00m (\n\u001b[0;32m   6293\u001b[0m     name \u001b[38;5;129;01mnot\u001b[39;00m \u001b[38;5;129;01min\u001b[39;00m \u001b[38;5;28mself\u001b[39m\u001b[38;5;241m.\u001b[39m_internal_names_set\n\u001b[0;32m   6294\u001b[0m     \u001b[38;5;129;01mand\u001b[39;00m name \u001b[38;5;129;01mnot\u001b[39;00m \u001b[38;5;129;01min\u001b[39;00m \u001b[38;5;28mself\u001b[39m\u001b[38;5;241m.\u001b[39m_metadata\n\u001b[0;32m   6295\u001b[0m     \u001b[38;5;129;01mand\u001b[39;00m name \u001b[38;5;129;01mnot\u001b[39;00m \u001b[38;5;129;01min\u001b[39;00m \u001b[38;5;28mself\u001b[39m\u001b[38;5;241m.\u001b[39m_accessors\n\u001b[1;32m-> 6296\u001b[0m     \u001b[38;5;129;01mand\u001b[39;00m \u001b[38;5;28;43mself\u001b[39;49m\u001b[38;5;241;43m.\u001b[39;49m\u001b[43m_info_axis\u001b[49m\u001b[38;5;241;43m.\u001b[39;49m\u001b[43m_can_hold_identifiers_and_holds_name\u001b[49m\u001b[43m(\u001b[49m\u001b[43mname\u001b[49m\u001b[43m)\u001b[49m\n\u001b[0;32m   6297\u001b[0m ):\n\u001b[0;32m   6298\u001b[0m     \u001b[38;5;28;01mreturn\u001b[39;00m \u001b[38;5;28mself\u001b[39m[name]\n\u001b[0;32m   6299\u001b[0m \u001b[38;5;28;01mreturn\u001b[39;00m \u001b[38;5;28mobject\u001b[39m\u001b[38;5;241m.\u001b[39m\u001b[38;5;21m__getattribute__\u001b[39m(\u001b[38;5;28mself\u001b[39m, name)\n",
      "File \u001b[1;32md:\\Users\\vsmoreira\\workspace\\aed\\projeto\\.venv\\Lib\\site-packages\\pandas\\core\\indexes\\base.py:5448\u001b[0m, in \u001b[0;36mIndex._can_hold_identifiers_and_holds_name\u001b[1;34m(self, name)\u001b[0m\n\u001b[0;32m   5437\u001b[0m \u001b[38;5;129m@final\u001b[39m\n\u001b[0;32m   5438\u001b[0m \u001b[38;5;28;01mdef\u001b[39;00m \u001b[38;5;21m_can_hold_identifiers_and_holds_name\u001b[39m(\u001b[38;5;28mself\u001b[39m, name) \u001b[38;5;241m-\u001b[39m\u001b[38;5;241m>\u001b[39m \u001b[38;5;28mbool\u001b[39m:\n\u001b[0;32m   5439\u001b[0m \u001b[38;5;250m    \u001b[39m\u001b[38;5;124;03m\"\"\"\u001b[39;00m\n\u001b[0;32m   5440\u001b[0m \u001b[38;5;124;03m    Faster check for ``name in self`` when we know `name` is a Python\u001b[39;00m\n\u001b[0;32m   5441\u001b[0m \u001b[38;5;124;03m    identifier (e.g. in NDFrame.__getattr__, which hits this to support\u001b[39;00m\n\u001b[1;32m   (...)\u001b[0m\n\u001b[0;32m   5445\u001b[0m \u001b[38;5;124;03m    https://github.com/pandas-dev/pandas/issues/19764\u001b[39;00m\n\u001b[0;32m   5446\u001b[0m \u001b[38;5;124;03m    \"\"\"\u001b[39;00m\n\u001b[0;32m   5447\u001b[0m     \u001b[38;5;28;01mif\u001b[39;00m (\n\u001b[1;32m-> 5448\u001b[0m         \u001b[43mis_object_dtype\u001b[49m\u001b[43m(\u001b[49m\u001b[38;5;28;43mself\u001b[39;49m\u001b[38;5;241;43m.\u001b[39;49m\u001b[43mdtype\u001b[49m\u001b[43m)\u001b[49m\n\u001b[0;32m   5449\u001b[0m         \u001b[38;5;129;01mor\u001b[39;00m is_string_dtype(\u001b[38;5;28mself\u001b[39m\u001b[38;5;241m.\u001b[39mdtype)\n\u001b[0;32m   5450\u001b[0m         \u001b[38;5;129;01mor\u001b[39;00m \u001b[38;5;28misinstance\u001b[39m(\u001b[38;5;28mself\u001b[39m\u001b[38;5;241m.\u001b[39mdtype, CategoricalDtype)\n\u001b[0;32m   5451\u001b[0m     ):\n\u001b[0;32m   5452\u001b[0m         \u001b[38;5;28;01mreturn\u001b[39;00m name \u001b[38;5;129;01min\u001b[39;00m \u001b[38;5;28mself\u001b[39m\n\u001b[0;32m   5453\u001b[0m     \u001b[38;5;28;01mreturn\u001b[39;00m \u001b[38;5;28;01mFalse\u001b[39;00m\n",
      "File \u001b[1;32md:\\Users\\vsmoreira\\workspace\\aed\\projeto\\.venv\\Lib\\site-packages\\pandas\\core\\dtypes\\common.py:165\u001b[0m, in \u001b[0;36mis_object_dtype\u001b[1;34m(arr_or_dtype)\u001b[0m\n\u001b[0;32m    137\u001b[0m \u001b[38;5;28;01mdef\u001b[39;00m \u001b[38;5;21mis_object_dtype\u001b[39m(arr_or_dtype) \u001b[38;5;241m-\u001b[39m\u001b[38;5;241m>\u001b[39m \u001b[38;5;28mbool\u001b[39m:\n\u001b[0;32m    138\u001b[0m \u001b[38;5;250m    \u001b[39m\u001b[38;5;124;03m\"\"\"\u001b[39;00m\n\u001b[0;32m    139\u001b[0m \u001b[38;5;124;03m    Check whether an array-like or dtype is of the object dtype.\u001b[39;00m\n\u001b[0;32m    140\u001b[0m \n\u001b[1;32m   (...)\u001b[0m\n\u001b[0;32m    163\u001b[0m \u001b[38;5;124;03m    False\u001b[39;00m\n\u001b[0;32m    164\u001b[0m \u001b[38;5;124;03m    \"\"\"\u001b[39;00m\n\u001b[1;32m--> 165\u001b[0m     \u001b[38;5;28;01mreturn\u001b[39;00m _is_dtype_type(arr_or_dtype, \u001b[43mclasses\u001b[49m\u001b[43m(\u001b[49m\u001b[43mnp\u001b[49m\u001b[38;5;241;43m.\u001b[39;49m\u001b[43mobject_\u001b[49m\u001b[43m)\u001b[49m)\n",
      "File \u001b[1;32md:\\Users\\vsmoreira\\workspace\\aed\\projeto\\.venv\\Lib\\site-packages\\pandas\\core\\dtypes\\common.py:121\u001b[0m, in \u001b[0;36mclasses\u001b[1;34m(*klasses)\u001b[0m\n\u001b[0;32m    117\u001b[0m         \u001b[38;5;28;01mraise\u001b[39;00m \u001b[38;5;167;01mTypeError\u001b[39;00m(\u001b[38;5;124mf\u001b[39m\u001b[38;5;124m\"\u001b[39m\u001b[38;5;124mWrong type \u001b[39m\u001b[38;5;132;01m{\u001b[39;00m\u001b[38;5;28mtype\u001b[39m(value)\u001b[38;5;132;01m}\u001b[39;00m\u001b[38;5;124m for value \u001b[39m\u001b[38;5;132;01m{\u001b[39;00mvalue\u001b[38;5;132;01m}\u001b[39;00m\u001b[38;5;124m\"\u001b[39m) \u001b[38;5;28;01mfrom\u001b[39;00m \u001b[38;5;21;01merr\u001b[39;00m\n\u001b[0;32m    118\u001b[0m     \u001b[38;5;28;01mreturn\u001b[39;00m new_value\n\u001b[1;32m--> 121\u001b[0m \u001b[38;5;28;01mdef\u001b[39;00m \u001b[38;5;21mclasses\u001b[39m(\u001b[38;5;241m*\u001b[39mklasses) \u001b[38;5;241m-\u001b[39m\u001b[38;5;241m>\u001b[39m Callable:\n\u001b[0;32m    122\u001b[0m \u001b[38;5;250m    \u001b[39m\u001b[38;5;124;03m\"\"\"Evaluate if the tipo is a subclass of the klasses.\"\"\"\u001b[39;00m\n\u001b[0;32m    123\u001b[0m     \u001b[38;5;28;01mreturn\u001b[39;00m \u001b[38;5;28;01mlambda\u001b[39;00m tipo: \u001b[38;5;28missubclass\u001b[39m(tipo, klasses)\n",
      "\u001b[1;31mKeyboardInterrupt\u001b[0m: "
     ]
    }
   ],
   "source": [
    "# Rodar testes em massa\n",
    "\n",
    "resultados = pd.DataFrame()\n",
    "for q in range(50, 550, 100):\n",
    "  df, custo, tempo =  rodar_teste(q)\n",
    "  df.to_csv('../output/resultados_n_'+str(q)+'.csv', index=False)"
   ]
  }
 ],
 "metadata": {
  "kernelspec": {
   "display_name": ".venv",
   "language": "python",
   "name": "python3"
  },
  "language_info": {
   "codemirror_mode": {
    "name": "ipython",
    "version": 3
   },
   "file_extension": ".py",
   "mimetype": "text/x-python",
   "name": "python",
   "nbconvert_exporter": "python",
   "pygments_lexer": "ipython3",
   "version": "3.12.0"
  }
 },
 "nbformat": 4,
 "nbformat_minor": 2
}
