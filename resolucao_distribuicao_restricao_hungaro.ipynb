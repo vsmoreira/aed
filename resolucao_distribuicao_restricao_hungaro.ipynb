{
 "cells": [
  {
   "cell_type": "code",
   "execution_count": null,
   "metadata": {},
   "outputs": [],
   "source": [
    "# pip install -r dependencies.txt"
   ]
  },
  {
   "cell_type": "code",
   "execution_count": null,
   "metadata": {},
   "outputs": [],
   "source": [
    "import pandas as pd\n",
    "import numpy as np\n",
    "from scipy.optimize import linear_sum_assignment"
   ]
  },
  {
   "cell_type": "code",
   "execution_count": null,
   "metadata": {},
   "outputs": [],
   "source": [
    "# Carregar dados CSV\n",
    "diplomatas = pd.read_csv('resources/aed_alocacao_recursos - diplomatas.csv')\n",
    "cidades = pd.read_csv('resources/aed_alocacao_recursos - cidades.csv')\n",
    "\n",
    "print(diplomatas.info())\n",
    "print(cidades.info())"
   ]
  },
  {
   "cell_type": "code",
   "execution_count": null,
   "metadata": {},
   "outputs": [],
   "source": [
    "def get_posto_trabalho(id):\n",
    "  return cidades.loc[cidades['posto'] == id].to_dict(orient='records')[0]\n",
    "\n",
    "get_posto_trabalho('P1')"
   ]
  },
  {
   "cell_type": "code",
   "execution_count": null,
   "metadata": {},
   "outputs": [],
   "source": [
    "def calcular_custo_aresta(diplomata, posto):\n",
    "    print(f\"Calculando custo da aresta {diplomata.id} -> {posto.posto}\")\n",
    "    # Se tiver 12 anos fora, deve retornar\n",
    "    if diplomata.tempo_fora >= 144:\n",
    "        if posto.classificacao == '*':\n",
    "            return 0.0\n",
    "        else:\n",
    "            return 999999999.99\n",
    "    # Se tiver 2 anos na lotação atual, deve trocar de lotacao\n",
    "    if diplomata.tempo_na_lotacao >= 24 and diplomata.lotacao == posto.posto:\n",
    "        return 999999999.99\n",
    "\n",
    "    # verificar se a origem á compatível com o destino. Ex. a só pode ir para B, C ou D\n",
    "    if diplomata.pedagio == 0:\n",
    "        posto_atual = get_posto_trabalho(diplomata.lotacao)\n",
    "        # print('Posto atual {}'.format(posto_atual))\n",
    "        if diplomata.lotacao != posto.posto and posto.classificacao == 'A':\n",
    "            if posto_atual.get('classificacao')  == 'A':\n",
    "                return 999999999.99\n",
    "    elif diplomata.pedagio < 24 and posto.classificacao == 'A':\n",
    "        # Se estiver a menos de 2 anos no Brasil, não pode ir para um posto 'A'\n",
    "        return 999999999.99\n",
    "\n",
    "    if posto.classificacao == 'A':\n",
    "        return 0.0\n",
    "\n",
    "    if posto.classificacao == 'B':\n",
    "        return 10.0\n",
    "\n",
    "    if posto.classificacao == 'C':\n",
    "        return 100.0\n",
    "\n",
    "    if posto.classificacao == 'D':\n",
    "        return 1000.0\n",
    "    \n",
    "    return 999999999.99"
   ]
  },
  {
   "cell_type": "code",
   "execution_count": null,
   "metadata": {},
   "outputs": [],
   "source": [
    "def alocar_diplomatas(matriz_custos):\n",
    "  \"\"\"\n",
    "  Resolve o problema de alocação usando o algoritmo húngaro.\n",
    "\n",
    "  :param matriz_custos: Matriz de custos (2D list ou numpy array)\n",
    "  :return: Tupla (lista de alocações, custo total)\n",
    "  \"\"\"\n",
    "  # Usando a função `linear_sum_assignment` da biblioteca scipy\n",
    "  matriz_custos = np.array(matriz_custos)\n",
    "  linhas, colunas = linear_sum_assignment(matriz_custos)\n",
    "  custo_total = matriz_custos[linhas, colunas].sum()\n",
    "\n",
    "  return linhas, colunas, custo_total"
   ]
  },
  {
   "cell_type": "code",
   "execution_count": null,
   "metadata": {},
   "outputs": [],
   "source": [
    "diplomatas_tratado = diplomatas.sort_values(\"tempo_servico\", ascending = False)\n",
    "# diplomatas_tratado = diplomatas_tratado['lotacao'].fillna('*', inplace=True)"
   ]
  },
  {
   "cell_type": "code",
   "execution_count": null,
   "metadata": {},
   "outputs": [],
   "source": [
    "# diplomatas_tratado = diplomatas_tratado['lotacao'].fillna('*', inplace=True)\n",
    "diplomatas_tratado"
   ]
  },
  {
   "cell_type": "code",
   "execution_count": null,
   "metadata": {},
   "outputs": [],
   "source": [
    "pesos_arestas = []\n",
    "for d, row in diplomatas_tratado.iterrows():\n",
    "    pesos_diplomata = []\n",
    "    for i, posto in cidades.iterrows():\n",
    "        pesos_diplomata.append(calcular_custo_aresta(row,posto))\n",
    "    pesos_arestas.append(pesos_diplomata)\n",
    "\n",
    "pesos_arestas"
   ]
  },
  {
   "cell_type": "code",
   "execution_count": null,
   "metadata": {},
   "outputs": [],
   "source": [
    "# Exemplo de uso\n",
    "linhas, colunas, custo = alocar_diplomatas(pesos_arestas)\n",
    "print(\"Alocações (diplomata -> posto):\")\n",
    "for i, j in zip(linhas, colunas):\n",
    "  print(f\"Diplomata {diplomatas_tratado.iloc[i].id} -> Posto {cidades.iloc[j].posto}\")\n",
    "\n",
    "print(\"Custo total:\", custo)"
   ]
  }
 ],
 "metadata": {
  "kernelspec": {
   "display_name": ".venv",
   "language": "python",
   "name": "python3"
  },
  "language_info": {
   "codemirror_mode": {
    "name": "ipython",
    "version": 3
   },
   "file_extension": ".py",
   "mimetype": "text/x-python",
   "name": "python",
   "nbconvert_exporter": "python",
   "pygments_lexer": "ipython3",
   "version": "3.11.0"
  }
 },
 "nbformat": 4,
 "nbformat_minor": 2
}
